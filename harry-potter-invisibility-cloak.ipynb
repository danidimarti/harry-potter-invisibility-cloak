{
 "cells": [
  {
   "cell_type": "markdown",
   "id": "58db8d16",
   "metadata": {},
   "source": [
    "### Harry Potter Invisibility Cloak"
   ]
  },
  {
   "cell_type": "markdown",
   "id": "1eea0c7a",
   "metadata": {},
   "source": [
    "<img src=\"C:/Users/biby_/Desktop/Projects/harry-potter-invisibility-cloak/harrygif.gif\"\">"
   ]
  },
  {
   "cell_type": "markdown",
   "id": "4e291eca",
   "metadata": {},
   "source": [
    "#### Steps\n",
    "1. Record a video with a stable background.\n",
    "2. Capture and preprocess frames from the video to create an average background.\n",
    "3. Implement color filtering to isolate the chosen object color (e.g., red) in each frame.\n",
    "4. Use the color-filtered mask to segment the object from the frame.\n",
    "5. Combine the segmented object with the preprocessed background to create the final output frame."
   ]
  },
  {
   "cell_type": "code",
   "execution_count": 3,
   "id": "a451d60a",
   "metadata": {},
   "outputs": [],
   "source": [
    "import cv2 \n",
    "import numpy as np \n",
    "import time "
   ]
  },
  {
   "cell_type": "code",
   "execution_count": null,
   "id": "761aff7c",
   "metadata": {},
   "outputs": [],
   "source": [
    "# Creating a VideoCapture object\n",
    "cap = cv2.VideoCapture(\"file-path/video-2.mp4\")\n",
    "\n",
    "# Check if the video capture object is opened successfully\n",
    "if not cap.isOpened():\n",
    "    print(\"Error opening video stream or file\")\n",
    "    exit()\n",
    "\n",
    "# Try to read a frame to check if it's working\n",
    "ret, img = cap.read()\n",
    "if not ret:\n",
    "    print(\"Failed to read a frame from the video.\")\n",
    "    cap.release()\n",
    "    exit()\n",
    "\n"
   ]
  },
  {
   "cell_type": "code",
   "execution_count": null,
   "id": "1b12f5da",
   "metadata": {},
   "outputs": [],
   "source": [
    "# Now you can check the shape of the image\n",
    "print(img.shape)"
   ]
  },
  {
   "cell_type": "code",
   "execution_count": 20,
   "id": "60faca74",
   "metadata": {},
   "outputs": [
    {
     "name": "stdout",
     "output_type": "stream",
     "text": [
      "(1280, 1280, 3)\n",
      "After flip: (1280, 1280, 3)\n",
      "Reached the end of the video.\n"
     ]
    }
   ],
   "source": [
    "# Reset the video capture to the start\n",
    "cap.set(cv2.CAP_PROP_POS_FRAMES, 0)\n",
    "\n",
    "# We give some time for the camera to warm-up!\n",
    "time.sleep(3)\n",
    "\n",
    "background = None\n",
    "\n",
    "# Read frames to get a suitable background\n",
    "for i in range(30):\n",
    "    ret, frame = cap.read()\n",
    "    if not ret:\n",
    "        print(\"Failed to read a frame from the video.\")\n",
    "        cap.release()\n",
    "        exit()\n",
    "\n",
    "    background = frame\n",
    "\n",
    "# Check if background is not None before flipping\n",
    "if background is not None:\n",
    "    # Laterally invert the image / flip the image.\n",
    "    background = np.flip(background, axis=1)\n",
    "\n",
    "    # Check dimensions after flipping\n",
    "    print(\"After flip:\", background.shape)\n",
    "else:\n",
    "    print(\"Failed to obtain a suitable background.\")\n",
    "\n",
    "# Get frame width and height\n",
    "frame_width = int(cap.get(3))\n",
    "frame_height = int(cap.get(4))\n",
    "\n",
    "# Use XVID codec and correct frame resolution\n",
    "fourcc = cv2.VideoWriter_fourcc(*'XVID')\n",
    "out = cv2.VideoWriter(\"file-path/red-output.avi\", fourcc, 20.0, (frame_width, frame_height))\n",
    "\n",
    "# Reset the video capture to the start\n",
    "cap.set(cv2.CAP_PROP_POS_FRAMES, 0)\n",
    "\n",
    "while cap.isOpened():\n",
    "    # Capturing the live frame\n",
    "    ret, img = cap.read()\n",
    "\n",
    "    # Check if the frame is read correctly\n",
    "    if not ret:\n",
    "        print(\"Reached the end of the video.\")\n",
    "        break\n",
    "\n",
    "    # Laterally invert the image / flip the image\n",
    "    img = np.flip(img, axis=1)\n",
    "\n",
    "    # converting from BGR to HSV color space\n",
    "    hsv = cv2.cvtColor(img, cv2.COLOR_BGR2HSV)\n",
    "\n",
    "    # Range for lower red\n",
    "    lower_red = np.array([0, 120, 70])\n",
    "    upper_red = np.array([10, 255, 255])\n",
    "    mask1 = cv2.inRange(hsv, lower_red, upper_red)\n",
    "\n",
    "    # Range for upper range\n",
    "    lower_red = np.array([170, 120, 70])\n",
    "    upper_red = np.array([180, 255, 255])\n",
    "    mask2 = cv2.inRange(hsv, lower_red, upper_red)\n",
    "\n",
    "    # Generating the final mask to detect red color\n",
    "    mask = mask1 + mask2\n",
    "\n",
    "    mask1 = cv2.morphologyEx(mask, cv2.MORPH_OPEN, np.ones((3, 3), np.uint8))\n",
    "    mask1 = cv2.morphologyEx(mask1, cv2.MORPH_DILATE, np.ones((3, 3), np.uint8))\n",
    "\n",
    "    # creating an inverted mask to segment out the cloth from the frame\n",
    "    mask2 = cv2.bitwise_not(mask1)\n",
    "\n",
    "    # Segmenting the cloth out of the frame using bitwise and with the inverted mask\n",
    "    res1 = cv2.bitwise_and(img, img, mask=mask2)\n",
    "\n",
    "    # creating image showing static background frame pixels only for the masked region\n",
    "    res2 = cv2.bitwise_and(background, background, mask=mask1)\n",
    "\n",
    "    # Generating the final output\n",
    "    final_output = cv2.addWeighted(res1, 1, res2, 1, 0)\n",
    "\n",
    "    cv2.imshow(\"magic\", final_output)\n",
    "\n",
    "    # Write the processed frame to the output file\n",
    "    out.write(final_output)\n",
    "\n",
    "    k = cv2.waitKey(10)\n",
    "    if k == 27:  # Press 'ESC' to exit\n",
    "        break\n",
    "\n",
    "cap.release()\n",
    "out.release()\n",
    "cv2.destroyAllWindows()\n"
   ]
  },
  {
   "cell_type": "code",
   "execution_count": null,
   "id": "5b20fcc9",
   "metadata": {},
   "outputs": [],
   "source": []
  }
 ],
 "metadata": {
  "kernelspec": {
   "display_name": "Python 3 (ipykernel)",
   "language": "python",
   "name": "python3"
  },
  "language_info": {
   "codemirror_mode": {
    "name": "ipython",
    "version": 3
   },
   "file_extension": ".py",
   "mimetype": "text/x-python",
   "name": "python",
   "nbconvert_exporter": "python",
   "pygments_lexer": "ipython3",
   "version": "3.9.13"
  }
 },
 "nbformat": 4,
 "nbformat_minor": 5
}
